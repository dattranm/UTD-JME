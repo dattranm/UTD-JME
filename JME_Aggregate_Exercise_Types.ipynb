{
  "nbformat": 4,
  "nbformat_minor": 0,
  "metadata": {
    "colab": {
      "name": "JME Aggregate Exercise Types.ipynb",
      "provenance": [],
      "collapsed_sections": []
    },
    "kernelspec": {
      "name": "python3",
      "display_name": "Python 3"
    },
    "accelerator": "GPU"
  },
  "cells": [
    {
      "cell_type": "code",
      "metadata": {
        "id": "zomG9ul_vHEk",
        "colab_type": "code",
        "colab": {}
      },
      "source": [
        "import pandas as pd\n",
        "\n",
        "df = pd.read_excel('/content/JME_FinalOrganized.xlsx')"
      ],
      "execution_count": 0,
      "outputs": []
    },
    {
      "cell_type": "code",
      "metadata": {
        "id": "b8hE-q6QwOr3",
        "colab_type": "code",
        "colab": {}
      },
      "source": [
        "df = pd.DataFrame(df)"
      ],
      "execution_count": 0,
      "outputs": []
    },
    {
      "cell_type": "code",
      "metadata": {
        "id": "yUGPMiblwTi_",
        "colab_type": "code",
        "outputId": "784dd4a2-5558-41b7-cda7-c20408425cf2",
        "colab": {
          "base_uri": "https://localhost:8080/",
          "height": 419
        }
      },
      "source": [
        "df"
      ],
      "execution_count": 0,
      "outputs": [
        {
          "output_type": "execute_result",
          "data": {
            "text/html": [
              "<div>\n",
              "<style scoped>\n",
              "    .dataframe tbody tr th:only-of-type {\n",
              "        vertical-align: middle;\n",
              "    }\n",
              "\n",
              "    .dataframe tbody tr th {\n",
              "        vertical-align: top;\n",
              "    }\n",
              "\n",
              "    .dataframe thead th {\n",
              "        text-align: right;\n",
              "    }\n",
              "</style>\n",
              "<table border=\"1\" class=\"dataframe\">\n",
              "  <thead>\n",
              "    <tr style=\"text-align: right;\">\n",
              "      <th></th>\n",
              "      <th>key</th>\n",
              "      <th>paragraph</th>\n",
              "      <th>ExerciseTypes</th>\n",
              "    </tr>\n",
              "  </thead>\n",
              "  <tbody>\n",
              "    <tr>\n",
              "      <th>0</th>\n",
              "      <td>199619--0263-jme2_1996_2.txt</td>\n",
              "      <td>ukraine and poland's joint peacekeeping force...</td>\n",
              "      <td>peacekeeping</td>\n",
              "    </tr>\n",
              "    <tr>\n",
              "      <th>1</th>\n",
              "      <td>199612--0327-jme2_1996_2.txt</td>\n",
              "      <td>nato and russia are expected to hold a joint ...</td>\n",
              "      <td>humanitarian; peacekeeping</td>\n",
              "    </tr>\n",
              "    <tr>\n",
              "      <th>2</th>\n",
              "      <td>199625--0455-jme2_1996_2.txt</td>\n",
              "      <td>egypt and saudi arabia today conducted joint ...</td>\n",
              "      <td>humanitarian; peacekeeping</td>\n",
              "    </tr>\n",
              "    <tr>\n",
              "      <th>3</th>\n",
              "      <td>199623--0471-jme2_1996_2.txt</td>\n",
              "      <td>turkey and albania are expected to hold a joi...</td>\n",
              "      <td>warfighting; humanitarian</td>\n",
              "    </tr>\n",
              "    <tr>\n",
              "      <th>4</th>\n",
              "      <td>199621--0491-jme2_1996_2.txt</td>\n",
              "      <td>nations(four from nato) will participate in t...</td>\n",
              "      <td>peacekeeping</td>\n",
              "    </tr>\n",
              "    <tr>\n",
              "      <th>...</th>\n",
              "      <td>...</td>\n",
              "      <td>...</td>\n",
              "      <td>...</td>\n",
              "    </tr>\n",
              "    <tr>\n",
              "      <th>1495</th>\n",
              "      <td>70c64cb2-9f5d-4a43-9939-8e9b9073628c</td>\n",
              "      <td>THEY'RE the warhorses of the sky -- and the a...</td>\n",
              "      <td>warfighting</td>\n",
              "    </tr>\n",
              "    <tr>\n",
              "      <th>1496</th>\n",
              "      <td>37307f81-76f8-46b5-8f3b-cf660677a5dd</td>\n",
              "      <td>Joint Ukrainian-Romanian military exercises b...</td>\n",
              "      <td>peacekeeping</td>\n",
              "    </tr>\n",
              "    <tr>\n",
              "      <th>1497</th>\n",
              "      <td>cbf49137-8866-4dfb-9e05-afea4a1a7a82</td>\n",
              "      <td>MILITARY personnel from the signatories of th...</td>\n",
              "      <td>warfighting; humanitarian</td>\n",
              "    </tr>\n",
              "    <tr>\n",
              "      <th>1498</th>\n",
              "      <td>8b8f55e7-d4f6-4524-b7fc-8eb6f1435d95</td>\n",
              "      <td>Bonn rewrites script for Third World War A pr...</td>\n",
              "      <td>warfighting</td>\n",
              "    </tr>\n",
              "    <tr>\n",
              "      <th>1499</th>\n",
              "      <td>033a3dda-1501-47f7-9d6d-1ccad82701db</td>\n",
              "      <td>1 - Edition Yankee sailors on their way for j...</td>\n",
              "      <td>warfighting</td>\n",
              "    </tr>\n",
              "  </tbody>\n",
              "</table>\n",
              "<p>1500 rows × 3 columns</p>\n",
              "</div>"
            ],
            "text/plain": [
              "                                       key  ...               ExerciseTypes\n",
              "0             199619--0263-jme2_1996_2.txt  ...                peacekeeping\n",
              "1             199612--0327-jme2_1996_2.txt  ...  humanitarian; peacekeeping\n",
              "2             199625--0455-jme2_1996_2.txt  ...  humanitarian; peacekeeping\n",
              "3             199623--0471-jme2_1996_2.txt  ...   warfighting; humanitarian\n",
              "4             199621--0491-jme2_1996_2.txt  ...                peacekeeping\n",
              "...                                    ...  ...                         ...\n",
              "1495  70c64cb2-9f5d-4a43-9939-8e9b9073628c  ...                 warfighting\n",
              "1496  37307f81-76f8-46b5-8f3b-cf660677a5dd  ...                peacekeeping\n",
              "1497  cbf49137-8866-4dfb-9e05-afea4a1a7a82  ...   warfighting; humanitarian\n",
              "1498  8b8f55e7-d4f6-4524-b7fc-8eb6f1435d95  ...                 warfighting\n",
              "1499  033a3dda-1501-47f7-9d6d-1ccad82701db  ...                 warfighting\n",
              "\n",
              "[1500 rows x 3 columns]"
            ]
          },
          "metadata": {
            "tags": []
          },
          "execution_count": 19
        }
      ]
    },
    {
      "cell_type": "code",
      "metadata": {
        "id": "jwR7CafqzUN0",
        "colab_type": "code",
        "colab": {}
      },
      "source": [
        "## binary classification\n",
        "df['warfighting'] = 0\n",
        "df['humanitarian'] = 0\n",
        "df['peacekeeping'] = 0\n",
        "\n",
        "# warfighting vs not warfighting\n",
        "#for line in df.iloc[:,2]:\n",
        "#  warfighting = []\n",
        "#  if 'warfighting' in line:\n",
        "\n"
      ],
      "execution_count": 0,
      "outputs": []
    },
    {
      "cell_type": "code",
      "metadata": {
        "id": "7CctoJfc0ZCn",
        "colab_type": "code",
        "outputId": "2dd027ac-bd43-4cab-d7b7-485ce4a5a841",
        "colab": {
          "base_uri": "https://localhost:8080/",
          "height": 419
        }
      },
      "source": [
        "df"
      ],
      "execution_count": 0,
      "outputs": [
        {
          "output_type": "execute_result",
          "data": {
            "text/html": [
              "<div>\n",
              "<style scoped>\n",
              "    .dataframe tbody tr th:only-of-type {\n",
              "        vertical-align: middle;\n",
              "    }\n",
              "\n",
              "    .dataframe tbody tr th {\n",
              "        vertical-align: top;\n",
              "    }\n",
              "\n",
              "    .dataframe thead th {\n",
              "        text-align: right;\n",
              "    }\n",
              "</style>\n",
              "<table border=\"1\" class=\"dataframe\">\n",
              "  <thead>\n",
              "    <tr style=\"text-align: right;\">\n",
              "      <th></th>\n",
              "      <th>key</th>\n",
              "      <th>paragraph</th>\n",
              "      <th>ExerciseTypes</th>\n",
              "      <th>warfighting</th>\n",
              "      <th>humanitarian</th>\n",
              "      <th>peacekeeping</th>\n",
              "    </tr>\n",
              "  </thead>\n",
              "  <tbody>\n",
              "    <tr>\n",
              "      <th>0</th>\n",
              "      <td>199619--0263-jme2_1996_2.txt</td>\n",
              "      <td>ukraine and poland's joint peacekeeping force...</td>\n",
              "      <td>peacekeeping</td>\n",
              "      <td>0</td>\n",
              "      <td>0</td>\n",
              "      <td>0</td>\n",
              "    </tr>\n",
              "    <tr>\n",
              "      <th>1</th>\n",
              "      <td>199612--0327-jme2_1996_2.txt</td>\n",
              "      <td>nato and russia are expected to hold a joint ...</td>\n",
              "      <td>humanitarian; peacekeeping</td>\n",
              "      <td>0</td>\n",
              "      <td>0</td>\n",
              "      <td>0</td>\n",
              "    </tr>\n",
              "    <tr>\n",
              "      <th>2</th>\n",
              "      <td>199625--0455-jme2_1996_2.txt</td>\n",
              "      <td>egypt and saudi arabia today conducted joint ...</td>\n",
              "      <td>humanitarian; peacekeeping</td>\n",
              "      <td>0</td>\n",
              "      <td>0</td>\n",
              "      <td>0</td>\n",
              "    </tr>\n",
              "    <tr>\n",
              "      <th>3</th>\n",
              "      <td>199623--0471-jme2_1996_2.txt</td>\n",
              "      <td>turkey and albania are expected to hold a joi...</td>\n",
              "      <td>warfighting; humanitarian</td>\n",
              "      <td>0</td>\n",
              "      <td>0</td>\n",
              "      <td>0</td>\n",
              "    </tr>\n",
              "    <tr>\n",
              "      <th>4</th>\n",
              "      <td>199621--0491-jme2_1996_2.txt</td>\n",
              "      <td>nations(four from nato) will participate in t...</td>\n",
              "      <td>peacekeeping</td>\n",
              "      <td>0</td>\n",
              "      <td>0</td>\n",
              "      <td>0</td>\n",
              "    </tr>\n",
              "    <tr>\n",
              "      <th>...</th>\n",
              "      <td>...</td>\n",
              "      <td>...</td>\n",
              "      <td>...</td>\n",
              "      <td>...</td>\n",
              "      <td>...</td>\n",
              "      <td>...</td>\n",
              "    </tr>\n",
              "    <tr>\n",
              "      <th>1495</th>\n",
              "      <td>70c64cb2-9f5d-4a43-9939-8e9b9073628c</td>\n",
              "      <td>THEY'RE the warhorses of the sky -- and the a...</td>\n",
              "      <td>warfighting</td>\n",
              "      <td>0</td>\n",
              "      <td>0</td>\n",
              "      <td>0</td>\n",
              "    </tr>\n",
              "    <tr>\n",
              "      <th>1496</th>\n",
              "      <td>37307f81-76f8-46b5-8f3b-cf660677a5dd</td>\n",
              "      <td>Joint Ukrainian-Romanian military exercises b...</td>\n",
              "      <td>peacekeeping</td>\n",
              "      <td>0</td>\n",
              "      <td>0</td>\n",
              "      <td>0</td>\n",
              "    </tr>\n",
              "    <tr>\n",
              "      <th>1497</th>\n",
              "      <td>cbf49137-8866-4dfb-9e05-afea4a1a7a82</td>\n",
              "      <td>MILITARY personnel from the signatories of th...</td>\n",
              "      <td>warfighting; humanitarian</td>\n",
              "      <td>0</td>\n",
              "      <td>0</td>\n",
              "      <td>0</td>\n",
              "    </tr>\n",
              "    <tr>\n",
              "      <th>1498</th>\n",
              "      <td>8b8f55e7-d4f6-4524-b7fc-8eb6f1435d95</td>\n",
              "      <td>Bonn rewrites script for Third World War A pr...</td>\n",
              "      <td>warfighting</td>\n",
              "      <td>0</td>\n",
              "      <td>0</td>\n",
              "      <td>0</td>\n",
              "    </tr>\n",
              "    <tr>\n",
              "      <th>1499</th>\n",
              "      <td>033a3dda-1501-47f7-9d6d-1ccad82701db</td>\n",
              "      <td>1 - Edition Yankee sailors on their way for j...</td>\n",
              "      <td>warfighting</td>\n",
              "      <td>0</td>\n",
              "      <td>0</td>\n",
              "      <td>0</td>\n",
              "    </tr>\n",
              "  </tbody>\n",
              "</table>\n",
              "<p>1500 rows × 6 columns</p>\n",
              "</div>"
            ],
            "text/plain": [
              "                                       key  ... peacekeeping\n",
              "0             199619--0263-jme2_1996_2.txt  ...            0\n",
              "1             199612--0327-jme2_1996_2.txt  ...            0\n",
              "2             199625--0455-jme2_1996_2.txt  ...            0\n",
              "3             199623--0471-jme2_1996_2.txt  ...            0\n",
              "4             199621--0491-jme2_1996_2.txt  ...            0\n",
              "...                                    ...  ...          ...\n",
              "1495  70c64cb2-9f5d-4a43-9939-8e9b9073628c  ...            0\n",
              "1496  37307f81-76f8-46b5-8f3b-cf660677a5dd  ...            0\n",
              "1497  cbf49137-8866-4dfb-9e05-afea4a1a7a82  ...            0\n",
              "1498  8b8f55e7-d4f6-4524-b7fc-8eb6f1435d95  ...            0\n",
              "1499  033a3dda-1501-47f7-9d6d-1ccad82701db  ...            0\n",
              "\n",
              "[1500 rows x 6 columns]"
            ]
          },
          "metadata": {
            "tags": []
          },
          "execution_count": 21
        }
      ]
    },
    {
      "cell_type": "code",
      "metadata": {
        "id": "4JOmvgyP171-",
        "colab_type": "code",
        "colab": {}
      },
      "source": [
        "for i in range(0, 1500):\n",
        "  if 'warfighting' in df.iloc[i,2]:\n",
        "    df.iloc[i,3] = 1\n",
        "  if 'humanitarian' in df.iloc[i, 2]:\n",
        "    df.iloc[i,4] = 1\n",
        "  if 'peacekeeping' in df.iloc[i, 2]:\n",
        "    df.iloc[i,5] = 1"
      ],
      "execution_count": 0,
      "outputs": []
    },
    {
      "cell_type": "code",
      "metadata": {
        "id": "krhbi8sk23t6",
        "colab_type": "code",
        "outputId": "08d3547b-df12-4399-8ae3-3569d5eb19bb",
        "colab": {
          "base_uri": "https://localhost:8080/",
          "height": 419
        }
      },
      "source": [
        "df"
      ],
      "execution_count": 0,
      "outputs": [
        {
          "output_type": "execute_result",
          "data": {
            "text/html": [
              "<div>\n",
              "<style scoped>\n",
              "    .dataframe tbody tr th:only-of-type {\n",
              "        vertical-align: middle;\n",
              "    }\n",
              "\n",
              "    .dataframe tbody tr th {\n",
              "        vertical-align: top;\n",
              "    }\n",
              "\n",
              "    .dataframe thead th {\n",
              "        text-align: right;\n",
              "    }\n",
              "</style>\n",
              "<table border=\"1\" class=\"dataframe\">\n",
              "  <thead>\n",
              "    <tr style=\"text-align: right;\">\n",
              "      <th></th>\n",
              "      <th>key</th>\n",
              "      <th>paragraph</th>\n",
              "      <th>ExerciseTypes</th>\n",
              "      <th>warfighting</th>\n",
              "      <th>humanitarian</th>\n",
              "      <th>peacekeeping</th>\n",
              "    </tr>\n",
              "  </thead>\n",
              "  <tbody>\n",
              "    <tr>\n",
              "      <th>0</th>\n",
              "      <td>199619--0263-jme2_1996_2.txt</td>\n",
              "      <td>ukraine and poland's joint peacekeeping force...</td>\n",
              "      <td>peacekeeping</td>\n",
              "      <td>0</td>\n",
              "      <td>0</td>\n",
              "      <td>1</td>\n",
              "    </tr>\n",
              "    <tr>\n",
              "      <th>1</th>\n",
              "      <td>199612--0327-jme2_1996_2.txt</td>\n",
              "      <td>nato and russia are expected to hold a joint ...</td>\n",
              "      <td>humanitarian; peacekeeping</td>\n",
              "      <td>0</td>\n",
              "      <td>1</td>\n",
              "      <td>1</td>\n",
              "    </tr>\n",
              "    <tr>\n",
              "      <th>2</th>\n",
              "      <td>199625--0455-jme2_1996_2.txt</td>\n",
              "      <td>egypt and saudi arabia today conducted joint ...</td>\n",
              "      <td>humanitarian; peacekeeping</td>\n",
              "      <td>0</td>\n",
              "      <td>1</td>\n",
              "      <td>1</td>\n",
              "    </tr>\n",
              "    <tr>\n",
              "      <th>3</th>\n",
              "      <td>199623--0471-jme2_1996_2.txt</td>\n",
              "      <td>turkey and albania are expected to hold a joi...</td>\n",
              "      <td>warfighting; humanitarian</td>\n",
              "      <td>1</td>\n",
              "      <td>1</td>\n",
              "      <td>0</td>\n",
              "    </tr>\n",
              "    <tr>\n",
              "      <th>4</th>\n",
              "      <td>199621--0491-jme2_1996_2.txt</td>\n",
              "      <td>nations(four from nato) will participate in t...</td>\n",
              "      <td>peacekeeping</td>\n",
              "      <td>0</td>\n",
              "      <td>0</td>\n",
              "      <td>1</td>\n",
              "    </tr>\n",
              "    <tr>\n",
              "      <th>...</th>\n",
              "      <td>...</td>\n",
              "      <td>...</td>\n",
              "      <td>...</td>\n",
              "      <td>...</td>\n",
              "      <td>...</td>\n",
              "      <td>...</td>\n",
              "    </tr>\n",
              "    <tr>\n",
              "      <th>1495</th>\n",
              "      <td>70c64cb2-9f5d-4a43-9939-8e9b9073628c</td>\n",
              "      <td>THEY'RE the warhorses of the sky -- and the a...</td>\n",
              "      <td>warfighting</td>\n",
              "      <td>1</td>\n",
              "      <td>0</td>\n",
              "      <td>0</td>\n",
              "    </tr>\n",
              "    <tr>\n",
              "      <th>1496</th>\n",
              "      <td>37307f81-76f8-46b5-8f3b-cf660677a5dd</td>\n",
              "      <td>Joint Ukrainian-Romanian military exercises b...</td>\n",
              "      <td>peacekeeping</td>\n",
              "      <td>0</td>\n",
              "      <td>0</td>\n",
              "      <td>1</td>\n",
              "    </tr>\n",
              "    <tr>\n",
              "      <th>1497</th>\n",
              "      <td>cbf49137-8866-4dfb-9e05-afea4a1a7a82</td>\n",
              "      <td>MILITARY personnel from the signatories of th...</td>\n",
              "      <td>warfighting; humanitarian</td>\n",
              "      <td>1</td>\n",
              "      <td>1</td>\n",
              "      <td>0</td>\n",
              "    </tr>\n",
              "    <tr>\n",
              "      <th>1498</th>\n",
              "      <td>8b8f55e7-d4f6-4524-b7fc-8eb6f1435d95</td>\n",
              "      <td>Bonn rewrites script for Third World War A pr...</td>\n",
              "      <td>warfighting</td>\n",
              "      <td>1</td>\n",
              "      <td>0</td>\n",
              "      <td>0</td>\n",
              "    </tr>\n",
              "    <tr>\n",
              "      <th>1499</th>\n",
              "      <td>033a3dda-1501-47f7-9d6d-1ccad82701db</td>\n",
              "      <td>1 - Edition Yankee sailors on their way for j...</td>\n",
              "      <td>warfighting</td>\n",
              "      <td>1</td>\n",
              "      <td>0</td>\n",
              "      <td>0</td>\n",
              "    </tr>\n",
              "  </tbody>\n",
              "</table>\n",
              "<p>1500 rows × 6 columns</p>\n",
              "</div>"
            ],
            "text/plain": [
              "                                       key  ... peacekeeping\n",
              "0             199619--0263-jme2_1996_2.txt  ...            1\n",
              "1             199612--0327-jme2_1996_2.txt  ...            1\n",
              "2             199625--0455-jme2_1996_2.txt  ...            1\n",
              "3             199623--0471-jme2_1996_2.txt  ...            0\n",
              "4             199621--0491-jme2_1996_2.txt  ...            1\n",
              "...                                    ...  ...          ...\n",
              "1495  70c64cb2-9f5d-4a43-9939-8e9b9073628c  ...            0\n",
              "1496  37307f81-76f8-46b5-8f3b-cf660677a5dd  ...            1\n",
              "1497  cbf49137-8866-4dfb-9e05-afea4a1a7a82  ...            0\n",
              "1498  8b8f55e7-d4f6-4524-b7fc-8eb6f1435d95  ...            0\n",
              "1499  033a3dda-1501-47f7-9d6d-1ccad82701db  ...            0\n",
              "\n",
              "[1500 rows x 6 columns]"
            ]
          },
          "metadata": {
            "tags": []
          },
          "execution_count": 23
        }
      ]
    },
    {
      "cell_type": "code",
      "metadata": {
        "id": "MuoyTQTX3Aao",
        "colab_type": "code",
        "outputId": "ffbcc01b-7778-4379-ce25-a1331539588e",
        "colab": {
          "base_uri": "https://localhost:8080/",
          "height": 102
        }
      },
      "source": [
        "import sklearn\n",
        "import numpy as np\n",
        "import pandas as pd\n",
        "import nltk\n",
        "nltk.download(\"stopwords\")\n",
        "nltk.download('punkt')\n",
        "from nltk.corpus import stopwords\n",
        "from nltk.tokenize import word_tokenize\n",
        "set(stopwords.words('english'))\n",
        "print()\n",
        "from sklearn.feature_extraction.text import CountVectorizer"
      ],
      "execution_count": 0,
      "outputs": [
        {
          "output_type": "stream",
          "text": [
            "[nltk_data] Downloading package stopwords to /root/nltk_data...\n",
            "[nltk_data]   Unzipping corpora/stopwords.zip.\n",
            "[nltk_data] Downloading package punkt to /root/nltk_data...\n",
            "[nltk_data]   Unzipping tokenizers/punkt.zip.\n",
            "\n"
          ],
          "name": "stdout"
        }
      ]
    },
    {
      "cell_type": "code",
      "metadata": {
        "id": "JlZpQtt63iwT",
        "colab_type": "code",
        "outputId": "ef0046a7-fd10-4034-fd1a-7b49d79638df",
        "colab": {
          "base_uri": "https://localhost:8080/",
          "height": 54
        }
      },
      "source": [
        "import re\n",
        "\n",
        "REPLACE_NO_SPACE = re.compile(\"(\\.)|(\\;)|(\\:)|(\\!)|(\\')|(\\?)|(\\,)|(\\\")|(\\|)|(\\()|(\\))|(\\[)|(\\])\")\n",
        "REPLACE_WITH_SPACE = re.compile(\"(<br\\s*/><br\\s*/?)|(\\-)|(\\/)(.)\")\n",
        "\n",
        "# extract the pagraph column (second column)\n",
        "df.iloc[:,1] = [REPLACE_NO_SPACE.sub(\"\", line.lower()) for line in df.iloc[:,1]]\n",
        "df.iloc[:,1] = [REPLACE_WITH_SPACE.sub(\" \", line) for line in df.iloc[:,1]]\n",
        "\n",
        "# check if it actually removed special cases \n",
        "df.iloc[0,1] # check the first row"
      ],
      "execution_count": 0,
      "outputs": [
        {
          "output_type": "execute_result",
          "data": {
            "text/plain": [
              "' ukraine and polands joint peacekeeping forces will start a two week exercise in poland next week to improve coordination the press center of the ukrainian defense department said today  the exercise codenamed tatry 96 will be held in the krakow military district in southern poland from september 23 to october 5 with 180 troops from ukraine taking part  the defense ministers of the two neighbors plan to make spot checks of the manoeuvres  the joint force set up earlier this year consists of polands 4th tank regiment and ukraines 24th iron division  under an agreement between the two countries the force can be used to carry out missions under natos partnership for peace program and participate in peacekeeping activities authorized by relevant international organizations'"
            ]
          },
          "metadata": {
            "tags": []
          },
          "execution_count": 26
        }
      ]
    },
    {
      "cell_type": "code",
      "metadata": {
        "id": "JAxHEynm33_D",
        "colab_type": "code",
        "colab": {}
      },
      "source": [
        "from nltk.corpus import stopwords\n",
        "\n",
        "stop = stopwords.words('english')\n",
        "\n",
        "# extract the cleaned paragraph column\n",
        "no_stop_words = pd.DataFrame(df.iloc[:,1])\n",
        "\n",
        "# now remove stop words\n",
        "no_stop_words['Cleaned Paragraph'] = no_stop_words['paragraph'].apply(lambda x: ' '.join([word for word in x.split() if word not in (stop)]))\n",
        "\n",
        "# append the cleaned paragarph to the original dataframe\n",
        "df['Cleaned Paragraph'] = df.iloc[:,1]"
      ],
      "execution_count": 0,
      "outputs": []
    },
    {
      "cell_type": "code",
      "metadata": {
        "id": "8icQk3Lo4FKL",
        "colab_type": "code",
        "outputId": "6c08cefe-7ca2-4f69-8aae-06012aeaeccd",
        "colab": {
          "base_uri": "https://localhost:8080/",
          "height": 419
        }
      },
      "source": [
        "df"
      ],
      "execution_count": 0,
      "outputs": [
        {
          "output_type": "execute_result",
          "data": {
            "text/html": [
              "<div>\n",
              "<style scoped>\n",
              "    .dataframe tbody tr th:only-of-type {\n",
              "        vertical-align: middle;\n",
              "    }\n",
              "\n",
              "    .dataframe tbody tr th {\n",
              "        vertical-align: top;\n",
              "    }\n",
              "\n",
              "    .dataframe thead th {\n",
              "        text-align: right;\n",
              "    }\n",
              "</style>\n",
              "<table border=\"1\" class=\"dataframe\">\n",
              "  <thead>\n",
              "    <tr style=\"text-align: right;\">\n",
              "      <th></th>\n",
              "      <th>key</th>\n",
              "      <th>paragraph</th>\n",
              "      <th>ExerciseTypes</th>\n",
              "      <th>warfighting</th>\n",
              "      <th>humanitarian</th>\n",
              "      <th>peacekeeping</th>\n",
              "      <th>Cleaned Paragraph</th>\n",
              "    </tr>\n",
              "  </thead>\n",
              "  <tbody>\n",
              "    <tr>\n",
              "      <th>0</th>\n",
              "      <td>199619--0263-jme2_1996_2.txt</td>\n",
              "      <td>ukraine and polands joint peacekeeping forces...</td>\n",
              "      <td>peacekeeping</td>\n",
              "      <td>0</td>\n",
              "      <td>0</td>\n",
              "      <td>1</td>\n",
              "      <td>ukraine and polands joint peacekeeping forces...</td>\n",
              "    </tr>\n",
              "    <tr>\n",
              "      <th>1</th>\n",
              "      <td>199612--0327-jme2_1996_2.txt</td>\n",
              "      <td>nato and russia are expected to hold a joint ...</td>\n",
              "      <td>humanitarian; peacekeeping</td>\n",
              "      <td>0</td>\n",
              "      <td>1</td>\n",
              "      <td>1</td>\n",
              "      <td>nato and russia are expected to hold a joint ...</td>\n",
              "    </tr>\n",
              "    <tr>\n",
              "      <th>2</th>\n",
              "      <td>199625--0455-jme2_1996_2.txt</td>\n",
              "      <td>egypt and saudi arabia today conducted joint ...</td>\n",
              "      <td>humanitarian; peacekeeping</td>\n",
              "      <td>0</td>\n",
              "      <td>1</td>\n",
              "      <td>1</td>\n",
              "      <td>egypt and saudi arabia today conducted joint ...</td>\n",
              "    </tr>\n",
              "    <tr>\n",
              "      <th>3</th>\n",
              "      <td>199623--0471-jme2_1996_2.txt</td>\n",
              "      <td>turkey and albania are expected to hold a joi...</td>\n",
              "      <td>warfighting; humanitarian</td>\n",
              "      <td>1</td>\n",
              "      <td>1</td>\n",
              "      <td>0</td>\n",
              "      <td>turkey and albania are expected to hold a joi...</td>\n",
              "    </tr>\n",
              "    <tr>\n",
              "      <th>4</th>\n",
              "      <td>199621--0491-jme2_1996_2.txt</td>\n",
              "      <td>nationsfour from nato will participate in the...</td>\n",
              "      <td>peacekeeping</td>\n",
              "      <td>0</td>\n",
              "      <td>0</td>\n",
              "      <td>1</td>\n",
              "      <td>nationsfour from nato will participate in the...</td>\n",
              "    </tr>\n",
              "    <tr>\n",
              "      <th>...</th>\n",
              "      <td>...</td>\n",
              "      <td>...</td>\n",
              "      <td>...</td>\n",
              "      <td>...</td>\n",
              "      <td>...</td>\n",
              "      <td>...</td>\n",
              "      <td>...</td>\n",
              "    </tr>\n",
              "    <tr>\n",
              "      <th>1495</th>\n",
              "      <td>70c64cb2-9f5d-4a43-9939-8e9b9073628c</td>\n",
              "      <td>theyre the warhorses of the sky    and the ai...</td>\n",
              "      <td>warfighting</td>\n",
              "      <td>1</td>\n",
              "      <td>0</td>\n",
              "      <td>0</td>\n",
              "      <td>theyre the warhorses of the sky    and the ai...</td>\n",
              "    </tr>\n",
              "    <tr>\n",
              "      <th>1496</th>\n",
              "      <td>37307f81-76f8-46b5-8f3b-cf660677a5dd</td>\n",
              "      <td>joint ukrainian romanian military exercises b...</td>\n",
              "      <td>peacekeeping</td>\n",
              "      <td>0</td>\n",
              "      <td>0</td>\n",
              "      <td>1</td>\n",
              "      <td>joint ukrainian romanian military exercises b...</td>\n",
              "    </tr>\n",
              "    <tr>\n",
              "      <th>1497</th>\n",
              "      <td>cbf49137-8866-4dfb-9e05-afea4a1a7a82</td>\n",
              "      <td>military personnel from the signatories of th...</td>\n",
              "      <td>warfighting; humanitarian</td>\n",
              "      <td>1</td>\n",
              "      <td>1</td>\n",
              "      <td>0</td>\n",
              "      <td>military personnel from the signatories of th...</td>\n",
              "    </tr>\n",
              "    <tr>\n",
              "      <th>1498</th>\n",
              "      <td>8b8f55e7-d4f6-4524-b7fc-8eb6f1435d95</td>\n",
              "      <td>bonn rewrites script for third world war a pr...</td>\n",
              "      <td>warfighting</td>\n",
              "      <td>1</td>\n",
              "      <td>0</td>\n",
              "      <td>0</td>\n",
              "      <td>bonn rewrites script for third world war a pr...</td>\n",
              "    </tr>\n",
              "    <tr>\n",
              "      <th>1499</th>\n",
              "      <td>033a3dda-1501-47f7-9d6d-1ccad82701db</td>\n",
              "      <td>1   edition yankee sailors on their way for j...</td>\n",
              "      <td>warfighting</td>\n",
              "      <td>1</td>\n",
              "      <td>0</td>\n",
              "      <td>0</td>\n",
              "      <td>1   edition yankee sailors on their way for j...</td>\n",
              "    </tr>\n",
              "  </tbody>\n",
              "</table>\n",
              "<p>1500 rows × 7 columns</p>\n",
              "</div>"
            ],
            "text/plain": [
              "                                       key  ...                                  Cleaned Paragraph\n",
              "0             199619--0263-jme2_1996_2.txt  ...   ukraine and polands joint peacekeeping forces...\n",
              "1             199612--0327-jme2_1996_2.txt  ...   nato and russia are expected to hold a joint ...\n",
              "2             199625--0455-jme2_1996_2.txt  ...   egypt and saudi arabia today conducted joint ...\n",
              "3             199623--0471-jme2_1996_2.txt  ...   turkey and albania are expected to hold a joi...\n",
              "4             199621--0491-jme2_1996_2.txt  ...   nationsfour from nato will participate in the...\n",
              "...                                    ...  ...                                                ...\n",
              "1495  70c64cb2-9f5d-4a43-9939-8e9b9073628c  ...   theyre the warhorses of the sky    and the ai...\n",
              "1496  37307f81-76f8-46b5-8f3b-cf660677a5dd  ...   joint ukrainian romanian military exercises b...\n",
              "1497  cbf49137-8866-4dfb-9e05-afea4a1a7a82  ...   military personnel from the signatories of th...\n",
              "1498  8b8f55e7-d4f6-4524-b7fc-8eb6f1435d95  ...   bonn rewrites script for third world war a pr...\n",
              "1499  033a3dda-1501-47f7-9d6d-1ccad82701db  ...   1   edition yankee sailors on their way for j...\n",
              "\n",
              "[1500 rows x 7 columns]"
            ]
          },
          "metadata": {
            "tags": []
          },
          "execution_count": 29
        }
      ]
    },
    {
      "cell_type": "code",
      "metadata": {
        "id": "L4-LCm__4G14",
        "colab_type": "code",
        "colab": {}
      },
      "source": [
        "# split into train and test data\n",
        "\n",
        "################################################ warfighting ########################################\n",
        "x = df.iloc[:, 6]\n",
        "y_war = df.iloc[:, 3] # grab warfighting\n",
        "\n",
        "\n",
        "# libray for test and train split\n",
        "from sklearn.model_selection import train_test_split\n",
        "\n",
        "# split into test and train (30:70 ratio)\n",
        "x_train, x_test, y_train, y_test = train_test_split(x, y_war, test_size = 0.3, random_state = 1)"
      ],
      "execution_count": 0,
      "outputs": []
    },
    {
      "cell_type": "code",
      "metadata": {
        "id": "F7rMlARe482-",
        "colab_type": "code",
        "colab": {}
      },
      "source": [
        "# vectorize paragraph\n",
        "vectorizer = CountVectorizer(binary = True)\n",
        "\n",
        "# fit using x_train\n",
        "vectorizer.fit(x_train)\n",
        "\n",
        "vector_x_train = vectorizer.transform(x_train)\n",
        "vector_x_test = vectorizer.transform(x_test)"
      ],
      "execution_count": 0,
      "outputs": []
    },
    {
      "cell_type": "code",
      "metadata": {
        "id": "s4j0IHpE5Bam",
        "colab_type": "code",
        "outputId": "80390052-c7b7-47b7-dce1-cc033ea937c7",
        "colab": {
          "base_uri": "https://localhost:8080/",
          "height": 34
        }
      },
      "source": [
        "# apply svm on warfighting vs not warfighting\n",
        "from sklearn import svm\n",
        "from sklearn.metrics import accuracy_score\n",
        "\n",
        "# fit the model using SVM\n",
        "svm = svm.SVC(kernel = 'linear', probability = True)\n",
        "\n",
        "# predict exercise types\n",
        "prob = svm.fit(vector_x_train, y_train).predict_proba(vector_x_test)\n",
        "\n",
        "y_pred_svm_war = svm.predict(vector_x_test)\n",
        "\n",
        "print(\"Accuracy of SVM Warfighting is : \", accuracy_score(y_test, y_pred_svm_war))"
      ],
      "execution_count": 0,
      "outputs": [
        {
          "output_type": "stream",
          "text": [
            "Accuracy of SVM Warfighting is :  0.88\n"
          ],
          "name": "stdout"
        }
      ]
    },
    {
      "cell_type": "code",
      "metadata": {
        "id": "WE3SpYMN5JhI",
        "colab_type": "code",
        "outputId": "f8f3c168-5ddc-49ce-e77b-91f37f92c202",
        "colab": {
          "base_uri": "https://localhost:8080/",
          "height": 51
        }
      },
      "source": [
        "# confusion matrix for warfighting vs not warfighting\n",
        "from sklearn.metrics import confusion_matrix\n",
        "\n",
        "# confusion matrix for SVM\n",
        "confusion_matrix(y_test, y_pred_svm_war) # first col = not warfighting"
      ],
      "execution_count": 0,
      "outputs": [
        {
          "output_type": "execute_result",
          "data": {
            "text/plain": [
              "array([[ 28,  34],\n",
              "       [ 20, 368]])"
            ]
          },
          "metadata": {
            "tags": []
          },
          "execution_count": 46
        }
      ]
    },
    {
      "cell_type": "code",
      "metadata": {
        "id": "Q7JZcez27ocK",
        "colab_type": "code",
        "outputId": "0b0a9483-f3e2-4241-f6a6-1086ef911547",
        "colab": {
          "base_uri": "https://localhost:8080/",
          "height": 34
        }
      },
      "source": [
        "from sklearn.neural_network import MLPClassifier\n",
        "\n",
        "# fit the model using MLP classifier\n",
        "mlp = MLPClassifier(hidden_layer_sizes = 150)\n",
        "mlp.fit(vector_x_train, y_train)\n",
        "\n",
        "# predict exercise types\n",
        "y_pred_mlp_war = mlp.predict(vector_x_test)\n",
        "\n",
        "print(\"Accuracy of MLP Warfighting is : \", accuracy_score(y_test, y_pred_mlp_war))"
      ],
      "execution_count": 0,
      "outputs": [
        {
          "output_type": "stream",
          "text": [
            "Accuracy of MLP Warfighting is :  0.8844444444444445\n"
          ],
          "name": "stdout"
        }
      ]
    },
    {
      "cell_type": "code",
      "metadata": {
        "id": "-siOyzXp77jw",
        "colab_type": "code",
        "outputId": "8fcc45c6-f88d-4c95-acd8-25b2414421bb",
        "colab": {
          "base_uri": "https://localhost:8080/",
          "height": 51
        }
      },
      "source": [
        "# confusion matrix for MLP warfighting vs not warfighting\n",
        "\n",
        "confusion_matrix(y_test, y_pred_mlp_war) # first col = not warfighting"
      ],
      "execution_count": 0,
      "outputs": [
        {
          "output_type": "execute_result",
          "data": {
            "text/plain": [
              "array([[ 18,  44],\n",
              "       [  8, 380]])"
            ]
          },
          "metadata": {
            "tags": []
          },
          "execution_count": 52
        }
      ]
    },
    {
      "cell_type": "code",
      "metadata": {
        "id": "gbuY7g7f5hMz",
        "colab_type": "code",
        "outputId": "acc40e7e-ddf6-43b3-f281-5512dfc990ce",
        "colab": {
          "base_uri": "https://localhost:8080/",
          "height": 34
        }
      },
      "source": [
        "####################################### humanitarian vs not humanitarian ###################33\n",
        "\n",
        "y_huma = df.iloc[:, 4] # grab humanitarian\n",
        "\n",
        "# libray for test and train split\n",
        "from sklearn.model_selection import train_test_split\n",
        "\n",
        "# split into test and train (30:70 ratio)\n",
        "x_train, x_test, y_train, y_test = train_test_split(x, y_huma, test_size = 0.3, random_state = 1)\n",
        "\n",
        "# apply svm on warfighting vs not warfighting\n",
        "from sklearn import svm\n",
        "from sklearn.metrics import accuracy_score\n",
        "\n",
        "# fit the model using SVM\n",
        "svm = svm.SVC(kernel = 'linear', probability = True)\n",
        "\n",
        "# predict exercise types\n",
        "prob = svm.fit(vector_x_train, y_train).predict_proba(vector_x_test)\n",
        "\n",
        "y_pred_svm_huma = svm.predict(vector_x_test)\n",
        "\n",
        "print(\"Accuracy of SVM Humanitarian is : \", accuracy_score(y_test, y_pred_svm_huma))"
      ],
      "execution_count": 0,
      "outputs": [
        {
          "output_type": "stream",
          "text": [
            "Accuracy of SVM Humanitarian is :  0.9066666666666666\n"
          ],
          "name": "stdout"
        }
      ]
    },
    {
      "cell_type": "code",
      "metadata": {
        "id": "JZO_6vta6Qpr",
        "colab_type": "code",
        "outputId": "1f6c06ab-29be-43d6-cb1d-f83c0bc2e56b",
        "colab": {
          "base_uri": "https://localhost:8080/",
          "height": 51
        }
      },
      "source": [
        "# confusion matrix for huma vs not huma using SVM\n",
        "confusion_matrix(y_test, y_pred_svm_huma) # first col = not huma"
      ],
      "execution_count": 0,
      "outputs": [
        {
          "output_type": "execute_result",
          "data": {
            "text/plain": [
              "array([[401,   3],\n",
              "       [ 39,   7]])"
            ]
          },
          "metadata": {
            "tags": []
          },
          "execution_count": 64
        }
      ]
    },
    {
      "cell_type": "code",
      "metadata": {
        "id": "8nKZ7Ki_8Rd7",
        "colab_type": "code",
        "outputId": "6f544c0b-2cd2-4dbb-af01-b574d5b8389b",
        "colab": {
          "base_uri": "https://localhost:8080/",
          "height": 34
        }
      },
      "source": [
        "# fit the model using MLP classifier\n",
        "mlp = MLPClassifier(hidden_layer_sizes = 150)\n",
        "mlp.fit(vector_x_train, y_train)\n",
        "\n",
        "# predict exercise types\n",
        "y_pred_mlp_huma = mlp.predict(vector_x_test)\n",
        "\n",
        "print(\"Accuracy of MLP Humanitarian is : \", accuracy_score(y_test, y_pred_mlp_huma))"
      ],
      "execution_count": 0,
      "outputs": [
        {
          "output_type": "stream",
          "text": [
            "Accuracy of MLP Humanitarian is :  0.9022222222222223\n"
          ],
          "name": "stdout"
        }
      ]
    },
    {
      "cell_type": "code",
      "metadata": {
        "id": "6MvSUEaY8fL_",
        "colab_type": "code",
        "outputId": "3f9be2c6-03c6-4df6-ec1c-b263df81c6a5",
        "colab": {
          "base_uri": "https://localhost:8080/",
          "height": 51
        }
      },
      "source": [
        "# confusion matrix for huma vs not huma using MLP\n",
        "confusion_matrix(y_test, y_pred_mlp_huma) # first col = not huma"
      ],
      "execution_count": 0,
      "outputs": [
        {
          "output_type": "execute_result",
          "data": {
            "text/plain": [
              "array([[404,   0],\n",
              "       [ 44,   2]])"
            ]
          },
          "metadata": {
            "tags": []
          },
          "execution_count": 76
        }
      ]
    },
    {
      "cell_type": "code",
      "metadata": {
        "id": "W98tXmBV6Aeu",
        "colab_type": "code",
        "outputId": "b33ebce4-c27e-438d-b629-e93d197f567d",
        "colab": {
          "base_uri": "https://localhost:8080/",
          "height": 34
        }
      },
      "source": [
        "####################################### peacekeeping vs not peacekeeping ###################33\n",
        "y_peace = df.iloc[:, 5] # grab peacekeeping\n",
        "\n",
        "# libray for test and train split\n",
        "from sklearn.model_selection import train_test_split\n",
        "\n",
        "# split into test and train (30:70 ratio)\n",
        "x_train, x_test, y_train, y_test = train_test_split(x, y_peace, test_size = 0.3, random_state = 1)\n",
        "\n",
        "# apply svm on warfighting vs not warfighting\n",
        "from sklearn import svm\n",
        "from sklearn.metrics import accuracy_score\n",
        "\n",
        "# fit the model using SVM\n",
        "svm = svm.SVC(kernel = 'linear', probability = True)\n",
        "\n",
        "# predict exercise types\n",
        "prob = svm.fit(vector_x_train, y_train).predict_proba(vector_x_test)\n",
        "\n",
        "y_pred_svm_peace = svm.predict(vector_x_test)\n",
        "\n",
        "print(\"Accuracy of SVM Peacekeeping is : \", accuracy_score(y_test, y_pred_svm_peace))"
      ],
      "execution_count": 0,
      "outputs": [
        {
          "output_type": "stream",
          "text": [
            "Accuracy of SVM Peacekeeping is :  0.9311111111111111\n"
          ],
          "name": "stdout"
        }
      ]
    },
    {
      "cell_type": "code",
      "metadata": {
        "id": "4hX7sOqh6g6l",
        "colab_type": "code",
        "outputId": "f6b2797c-ecf2-472c-98a1-deb97042d20f",
        "colab": {
          "base_uri": "https://localhost:8080/",
          "height": 51
        }
      },
      "source": [
        "## confusion matrix for peace vs not peace using SVM\n",
        "confusion_matrix(y_test, y_pred_svm_peace) # first col = not peacekeeping"
      ],
      "execution_count": 0,
      "outputs": [
        {
          "output_type": "execute_result",
          "data": {
            "text/plain": [
              "array([[405,  11],\n",
              "       [ 20,  14]])"
            ]
          },
          "metadata": {
            "tags": []
          },
          "execution_count": 40
        }
      ]
    },
    {
      "cell_type": "code",
      "metadata": {
        "id": "f6T8ztkw9EOn",
        "colab_type": "code",
        "outputId": "20e34c0b-9865-458d-bec6-2e467c5e9487",
        "colab": {
          "base_uri": "https://localhost:8080/",
          "height": 34
        }
      },
      "source": [
        "# fit the model using MLP classifier\n",
        "mlp = MLPClassifier(hidden_layer_sizes = 150)\n",
        "mlp.fit(vector_x_train, y_train)\n",
        "\n",
        "# predict exercise types\n",
        "y_pred_mlp_peace = mlp.predict(vector_x_test)\n",
        "\n",
        "print(\"Accuracy of MLP Peacekeeping is : \", accuracy_score(y_test, y_pred_mlp_peace))"
      ],
      "execution_count": 0,
      "outputs": [
        {
          "output_type": "stream",
          "text": [
            "Accuracy of MLP Peacekeeping is :  0.9355555555555556\n"
          ],
          "name": "stdout"
        }
      ]
    },
    {
      "cell_type": "code",
      "metadata": {
        "id": "KoJlVKoP_Kev",
        "colab_type": "code",
        "outputId": "c7dd004e-34fa-48aa-c219-1447ed59790a",
        "colab": {
          "base_uri": "https://localhost:8080/",
          "height": 51
        }
      },
      "source": [
        "## confusion matrix for peace vs not peace using MLP\n",
        "confusion_matrix(y_test, y_pred_mlp_peace) # first col = not peacekeeping"
      ],
      "execution_count": 0,
      "outputs": [
        {
          "output_type": "execute_result",
          "data": {
            "text/plain": [
              "array([[413,   3],\n",
              "       [ 26,   8]])"
            ]
          },
          "metadata": {
            "tags": []
          },
          "execution_count": 82
        }
      ]
    },
    {
      "cell_type": "code",
      "metadata": {
        "id": "Ydxuo5VG-QQd",
        "colab_type": "code",
        "colab": {}
      },
      "source": [
        "# replace NaN values with \"NULL\"\n",
        "df.iloc[:,0].fillna(\"NULL\", inplace = True) \n",
        "df.iloc[:,1].fillna(\"NULL\", inplace = True)\n",
        "df.iloc[:,2].fillna(\"NULL\", inplace = True) \n",
        "df.iloc[:,3].fillna(\"NULL\", inplace = True)\n",
        "df.iloc[:,4].fillna(\"NULL\", inplace = True) \n",
        "df.iloc[:,5].fillna(\"NULL\", inplace = True)"
      ],
      "execution_count": 0,
      "outputs": []
    },
    {
      "cell_type": "code",
      "metadata": {
        "id": "A-fdnFwG-cEI",
        "colab_type": "code",
        "colab": {}
      },
      "source": [
        "df.iloc[1677,3] = \"NULL\"\n",
        "df.iloc[1588,3] = \"NULL\""
      ],
      "execution_count": 0,
      "outputs": []
    },
    {
      "cell_type": "code",
      "metadata": {
        "id": "j_ZbECu0GU03",
        "colab_type": "code",
        "outputId": "155d476d-cfa1-4d90-a3da-83f1b37b567f",
        "colab": {
          "base_uri": "https://localhost:8080/",
          "height": 136
        }
      },
      "source": [
        "df.iloc[1588,:]"
      ],
      "execution_count": 0,
      "outputs": [
        {
          "output_type": "execute_result",
          "data": {
            "text/plain": [
              "key                                    20010829--0484-jme2_2001_3.txt\n",
              "paragraph            MOSCOW. Aug 29 (Interfax) Armenian, Belarussi...\n",
              "ExerciseType                                                     NULL\n",
              "Key(s)/Source(s)                                                 NULL\n",
              "ExerciseType.1                                                   NULL\n",
              "Unnamed: 5                                                       NULL\n",
              "Name: 1588, dtype: object"
            ]
          },
          "metadata": {
            "tags": []
          },
          "execution_count": 135
        }
      ]
    },
    {
      "cell_type": "code",
      "metadata": {
        "id": "1JliRZeNy7z7",
        "colab_type": "code",
        "colab": {}
      },
      "source": [
        "# map Key(s)/Source(s) with ExcerciseType.1 and compare it with the key column, then append the exercise type in column 5\n",
        "for i in range(0, 1800):\n",
        "  for j in range(0, 12927):\n",
        "    # look for the substring\n",
        "    if df.iloc[j, 0] in df.iloc[i, 3]:\n",
        "      df.iloc[j, 5] = df.iloc[i, 4]"
      ],
      "execution_count": 0,
      "outputs": []
    },
    {
      "cell_type": "code",
      "metadata": {
        "id": "PVCC3Ipex70g",
        "colab_type": "code",
        "outputId": "1819eb38-bc2e-48d0-cfcc-b670209a376c",
        "colab": {
          "base_uri": "https://localhost:8080/",
          "height": 419
        }
      },
      "source": [
        "df"
      ],
      "execution_count": 0,
      "outputs": [
        {
          "output_type": "execute_result",
          "data": {
            "text/html": [
              "<div>\n",
              "<style scoped>\n",
              "    .dataframe tbody tr th:only-of-type {\n",
              "        vertical-align: middle;\n",
              "    }\n",
              "\n",
              "    .dataframe tbody tr th {\n",
              "        vertical-align: top;\n",
              "    }\n",
              "\n",
              "    .dataframe thead th {\n",
              "        text-align: right;\n",
              "    }\n",
              "</style>\n",
              "<table border=\"1\" class=\"dataframe\">\n",
              "  <thead>\n",
              "    <tr style=\"text-align: right;\">\n",
              "      <th></th>\n",
              "      <th>key</th>\n",
              "      <th>paragraph</th>\n",
              "      <th>ExerciseType</th>\n",
              "      <th>Key(s)/Source(s)</th>\n",
              "      <th>ExerciseType.1</th>\n",
              "      <th>Unnamed: 5</th>\n",
              "    </tr>\n",
              "  </thead>\n",
              "  <tbody>\n",
              "    <tr>\n",
              "      <th>0</th>\n",
              "      <td>199622--0239-jme2_1996_2.txt</td>\n",
              "      <td>egyptian president hosni mubarak today accuse...</td>\n",
              "      <td>NULL</td>\n",
              "      <td>19741121--0053-jme_1_74_1.txt</td>\n",
              "      <td>warfighting</td>\n",
              "      <td>NULL</td>\n",
              "    </tr>\n",
              "    <tr>\n",
              "      <th>1</th>\n",
              "      <td>199620--0251-jme2_1996_2.txt</td>\n",
              "      <td>egypt today ended 10 days of massive military...</td>\n",
              "      <td>NULL</td>\n",
              "      <td>19760124--0066-jme_1_76_4.txt</td>\n",
              "      <td>warfighting</td>\n",
              "      <td>NULL</td>\n",
              "    </tr>\n",
              "    <tr>\n",
              "      <th>2</th>\n",
              "      <td>199619--0252-jme2_1996_2.txt</td>\n",
              "      <td>u.s. ground forces deployed in kuwait will st...</td>\n",
              "      <td>NULL</td>\n",
              "      <td>19760119--0090-jme_1_76_4.txt</td>\n",
              "      <td>warfighting</td>\n",
              "      <td>NULL</td>\n",
              "    </tr>\n",
              "    <tr>\n",
              "      <th>3</th>\n",
              "      <td>199619--0263-jme2_1996_2.txt</td>\n",
              "      <td>ukraine and poland's joint peacekeeping force...</td>\n",
              "      <td>NULL</td>\n",
              "      <td>19750105--0254-jme_1_75_4.txt</td>\n",
              "      <td>warfighting</td>\n",
              "      <td>peacekeeping</td>\n",
              "    </tr>\n",
              "    <tr>\n",
              "      <th>4</th>\n",
              "      <td>199618--0272-jme2_1996_2.txt</td>\n",
              "      <td>jordanian and british infantry forces today c...</td>\n",
              "      <td>NULL</td>\n",
              "      <td>197704--0109-jme2_1977_1.txt</td>\n",
              "      <td>warfighting</td>\n",
              "      <td>NULL</td>\n",
              "    </tr>\n",
              "    <tr>\n",
              "      <th>...</th>\n",
              "      <td>...</td>\n",
              "      <td>...</td>\n",
              "      <td>...</td>\n",
              "      <td>...</td>\n",
              "      <td>...</td>\n",
              "      <td>...</td>\n",
              "    </tr>\n",
              "    <tr>\n",
              "      <th>12925</th>\n",
              "      <td>033a3dda-1501-47f7-9d6d-1ccad82701db</td>\n",
              "      <td>1 - Edition Yankee sailors on their way for j...</td>\n",
              "      <td>NULL</td>\n",
              "      <td>NULL</td>\n",
              "      <td>NULL</td>\n",
              "      <td>warfighting</td>\n",
              "    </tr>\n",
              "    <tr>\n",
              "      <th>12926</th>\n",
              "      <td>46aa755a-d797-49ef-aa61-e822c5b42399</td>\n",
              "      <td>The government of India issued the following ...</td>\n",
              "      <td>NULL</td>\n",
              "      <td>NULL</td>\n",
              "      <td>NULL</td>\n",
              "      <td>NULL</td>\n",
              "    </tr>\n",
              "    <tr>\n",
              "      <th>12927</th>\n",
              "      <td>NULL</td>\n",
              "      <td>NULL</td>\n",
              "      <td>NULL</td>\n",
              "      <td>NULL</td>\n",
              "      <td>NULL</td>\n",
              "      <td>NULL</td>\n",
              "    </tr>\n",
              "    <tr>\n",
              "      <th>12928</th>\n",
              "      <td>NULL</td>\n",
              "      <td>NULL</td>\n",
              "      <td>warfighting</td>\n",
              "      <td>NULL</td>\n",
              "      <td>NULL</td>\n",
              "      <td>NULL</td>\n",
              "    </tr>\n",
              "    <tr>\n",
              "      <th>12929</th>\n",
              "      <td>NULL</td>\n",
              "      <td>NULL</td>\n",
              "      <td>NULL</td>\n",
              "      <td>NULL</td>\n",
              "      <td>NULL</td>\n",
              "      <td>NULL</td>\n",
              "    </tr>\n",
              "  </tbody>\n",
              "</table>\n",
              "<p>12930 rows × 6 columns</p>\n",
              "</div>"
            ],
            "text/plain": [
              "                                        key  ...    Unnamed: 5\n",
              "0              199622--0239-jme2_1996_2.txt  ...          NULL\n",
              "1              199620--0251-jme2_1996_2.txt  ...          NULL\n",
              "2              199619--0252-jme2_1996_2.txt  ...          NULL\n",
              "3              199619--0263-jme2_1996_2.txt  ...  peacekeeping\n",
              "4              199618--0272-jme2_1996_2.txt  ...          NULL\n",
              "...                                     ...  ...           ...\n",
              "12925  033a3dda-1501-47f7-9d6d-1ccad82701db  ...   warfighting\n",
              "12926  46aa755a-d797-49ef-aa61-e822c5b42399  ...          NULL\n",
              "12927                                  NULL  ...          NULL\n",
              "12928                                  NULL  ...          NULL\n",
              "12929                                  NULL  ...          NULL\n",
              "\n",
              "[12930 rows x 6 columns]"
            ]
          },
          "metadata": {
            "tags": []
          },
          "execution_count": 138
        }
      ]
    },
    {
      "cell_type": "code",
      "metadata": {
        "id": "8a2WNo727FeZ",
        "colab_type": "code",
        "colab": {}
      },
      "source": [
        "df.to_excel('JME Final.xlsx',index=False)"
      ],
      "execution_count": 0,
      "outputs": []
    },
    {
      "cell_type": "code",
      "metadata": {
        "id": "priPuGdL9J3C",
        "colab_type": "code",
        "colab": {}
      },
      "source": [
        ""
      ],
      "execution_count": 0,
      "outputs": []
    }
  ]
}